{
 "cells": [
  {
   "cell_type": "markdown",
   "metadata": {},
   "source": [
    "# CS231n Proj Codes\n",
    "+ CNN from CS231n Proj : \"Facial keypoints detection using Neural Network\"\n",
    "\n",
    "## 1. Load the Dataset"
   ]
  },
  {
   "cell_type": "code",
   "execution_count": 1,
   "metadata": {
    "collapsed": true
   },
   "outputs": [],
   "source": [
    "import os\n",
    "import numpy as np\n",
    "import pandas as pd\n",
    "from pandas.io.parsers import read_csv\n",
    "from sklearn.utils import shuffle\n",
    "from collections import OrderedDict\n",
    "from matplotlib import pyplot"
   ]
  },
  {
   "cell_type": "code",
   "execution_count": 2,
   "metadata": {
    "collapsed": true
   },
   "outputs": [],
   "source": [
    "## Load the dataset in 1-D form\n",
    "def load(file_name, test=False, cols=None):\n",
    "    df = pd.read_csv(file_name)\n",
    "\n",
    "    df['Image'] = df['Image'].apply(lambda im: np.fromstring(im, sep=' '))\n",
    "\n",
    "    if cols: # choose given row\n",
    "        df = df[list(cols) + ['Image']]\n",
    "\n",
    "    # print(df.count()) Basic count of different features\n",
    "    df = df.dropna() # We can see that some values are missing, we just use those completed data\n",
    "\n",
    "    X = np.vstack(df['Image'].values) / 255. # Normalization\n",
    "    X = X.astype(np.float32)\n",
    "\n",
    "    if not test:\n",
    "        y = df[df.columns[:-1]].values\n",
    "        y = (y - 48) / 48\n",
    "        X, y = shuffle(X, y, random_state=42)\n",
    "        y = y.astype(np.float32)\n",
    "    else:\n",
    "        y = None\n",
    "\n",
    "    return X, y"
   ]
  },
  {
   "cell_type": "code",
   "execution_count": 3,
   "metadata": {
    "collapsed": true
   },
   "outputs": [],
   "source": [
    "# Load the dataset in 2-D form\n",
    "def load2d(file_name, test=False, cols=None):\n",
    "    X, y = load(file_name, test, cols)\n",
    "    X = X.reshape(-1, 96, 96, 1) # if theano backend --> -1 , 1, 96, 96\n",
    "    return X, y"
   ]
  },
  {
   "cell_type": "code",
   "execution_count": 4,
   "metadata": {
    "collapsed": false
   },
   "outputs": [
    {
     "name": "stdout",
     "output_type": "stream",
     "text": [
      "(2140, 9216)\n",
      "(2140, 30)\n"
     ]
    }
   ],
   "source": [
    "X1d, y1d = load('training.csv')\n",
    "print(X1d.shape)\n",
    "print(y1d.shape)"
   ]
  },
  {
   "cell_type": "code",
   "execution_count": 21,
   "metadata": {
    "collapsed": false
   },
   "outputs": [
    {
     "name": "stdout",
     "output_type": "stream",
     "text": [
      "(2140, 96, 96, 1)\n",
      "(2140, 30)\n"
     ]
    }
   ],
   "source": [
    "X2d, y2d = load2d('training.csv')\n",
    "print(X2d.shape)\n",
    "print(y2d.shape)"
   ]
  },
  {
   "cell_type": "markdown",
   "metadata": {},
   "source": [
    "## 2. Models:\n",
    "+ model_hidden : one hidden layer neural network\n",
    "+ model_cnn : 5-layer CNN\n",
    "+ Inception : Use GoogLeNet to extract features first\n",
    "    + model_inception_hidden : Inception + one hidden layer neural network\n",
    "    + model_inception_cnn : Inception + 5-layer CNN\n",
    "    + model_inception_dropout : Add dropout layer in the cnn model as a third Inception model to overcome overfitting\n",
    "\n",
    "## 3. Hidden"
   ]
  },
  {
   "cell_type": "code",
   "execution_count": 6,
   "metadata": {
    "collapsed": false
   },
   "outputs": [
    {
     "name": "stderr",
     "output_type": "stream",
     "text": [
      "Using TensorFlow backend.\n"
     ]
    }
   ],
   "source": [
    "from keras.models import Sequential\n",
    "from keras.layers import Dense, Activation\n",
    "from keras.optimizers import SGD"
   ]
  },
  {
   "cell_type": "code",
   "execution_count": 10,
   "metadata": {
    "collapsed": true
   },
   "outputs": [],
   "source": [
    "model_hidden = Sequential() \n",
    "model_hidden.add(Dense(100, input_dim = 9216)) # Input the 1-D data\n",
    "model_hidden.add(Activation(\"relu\"))\n",
    "model_hidden.add(Dense(30))\n",
    "sgd = SGD(lr = 0.01, momentum = 0.9, nesterov = True)\n",
    "model_hidden.compile(loss = 'mean_squared_error', optimizer = sgd, metrics=['mae', 'acc'])"
   ]
  },
  {
   "cell_type": "code",
   "execution_count": 18,
   "metadata": {
    "collapsed": false
   },
   "outputs": [
    {
     "name": "stdout",
     "output_type": "stream",
     "text": [
      "(1712, 9216)\n",
      "(428, 9216)\n"
     ]
    }
   ],
   "source": [
    "## Build CV dataset\n",
    "from sklearn.model_selection import KFold\n",
    "kf = KFold(n_splits = 5)\n",
    "for train_index, test_index in kf.split(X1d):\n",
    "    X1d_train, X1d_cv = X1d[train_index], X1d[test_index]\n",
    "    y1d_train, y1d_cv = y1d[train_index], y1d[test_index]\n",
    "print(X1d_train.shape)\n",
    "print(X1d_cv.shape)"
   ]
  },
  {
   "cell_type": "code",
   "execution_count": 17,
   "metadata": {
    "collapsed": false
   },
   "outputs": [
    {
     "name": "stdout",
     "output_type": "stream",
     "text": [
      "(1712, 9216)\n",
      "(428, 9216)\n"
     ]
    }
   ],
   "source": [
    "model_hidden.fit(X1d_train, y1d_train, nb_epoch = 400, batch_size = 1, validation_split = 0.2)"
   ]
  },
  {
   "cell_type": "code",
   "execution_count": null,
   "metadata": {
    "collapsed": true
   },
   "outputs": [],
   "source": [
    "## Predict and evaluate the result\n",
    "cv_prediction = model_hidden.predict(X1d_test)\n"
   ]
  },
  {
   "cell_type": "code",
   "execution_count": 19,
   "metadata": {
    "collapsed": true
   },
   "outputs": [],
   "source": [
    "## Get the prediction of test dataset\n"
   ]
  },
  {
   "cell_type": "code",
   "execution_count": null,
   "metadata": {
    "collapsed": true
   },
   "outputs": [],
   "source": [
    "## Save the model and test results"
   ]
  },
  {
   "cell_type": "code",
   "execution_count": null,
   "metadata": {
    "collapsed": true
   },
   "outputs": [],
   "source": []
  },
  {
   "cell_type": "markdown",
   "metadata": {},
   "source": [
    "## 4. CNN"
   ]
  },
  {
   "cell_type": "code",
   "execution_count": 20,
   "metadata": {
    "collapsed": true
   },
   "outputs": [],
   "source": [
    "from keras.models import Sequential\n",
    "from keras.layers import Dense, Activation, Convolution2D, MaxPooling2D, Flatten\n",
    "from keras.optimizers import SGD \n",
    "# Other choices : RMSprop / Adam (RMSprop with momentem) / Adamax / Nadam (Nesterov version)"
   ]
  },
  {
   "cell_type": "code",
   "execution_count": null,
   "metadata": {
    "collapsed": true
   },
   "outputs": [],
   "source": [
    "model_cnn = Sequential()\n",
    "\n",
    "# Filters : 32\n",
    "# Kernel size : 3 * 3\n",
    "# Input shape 96 * 96 * 1\n",
    "model_cnn.add(Convolution2D(32, 3, 3, input_shape=(96, 96, 1)))\n",
    "model_cnn.add(Activation('relu'))\n",
    "model_cnn.add(MaxPooling2D(pool_size=(2, 2)))\n",
    "\n",
    "model_cnn.add(Convolution2D(64, 2, 2))\n",
    "model_cnn.add(Activation('relu'))\n",
    "model_cnn.add(MaxPooling2D(pool_size=(2, 2)))\n",
    "\n",
    "model_cnn.add(Convolution2D(128, 2, 2))\n",
    "model_cnn.add(Activation('relu'))\n",
    "model_cnn.add(MaxPooling2D(pool_size=(2, 2)))\n",
    "\n",
    "model_cnn.add(Flatten()) # Flatten the multi-dimentional input into 1-D for Dense layer\n",
    "model_cnn.add(Dense(500))\n",
    "model_cnn.add(Activation('relu'))\n",
    "model_cnn.add(Dense(500))\n",
    "model_cnn.add(Activation('relu'))\n",
    "model_cnn.add(Dense(30))"
   ]
  },
  {
   "cell_type": "code",
   "execution_count": null,
   "metadata": {
    "collapsed": true
   },
   "outputs": [],
   "source": [
    "sgd = SGD(lr=0.01, momentum = 0.9, nesterov = True)\n",
    "model_cnn.compile(loss = 'mean_squared_error', optimizer = sgd, metrics=['acc'])\n",
    "model_cnn.fit(X2d, y2d, nb_epoch = 400, validation_split = 0.2)"
   ]
  }
 ],
 "metadata": {
  "kernelspec": {
   "display_name": "Python 3",
   "language": "python",
   "name": "python3"
  },
  "language_info": {
   "codemirror_mode": {
    "name": "ipython",
    "version": 3
   },
   "file_extension": ".py",
   "mimetype": "text/x-python",
   "name": "python",
   "nbconvert_exporter": "python",
   "pygments_lexer": "ipython3",
   "version": "3.6.0"
  }
 },
 "nbformat": 4,
 "nbformat_minor": 2
}
